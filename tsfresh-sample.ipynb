{
 "cells": [
  {
   "cell_type": "markdown",
   "metadata": {},
   "source": [
    "# tsfreshを使って特徴量を生成するサンプル"
   ]
  },
  {
   "cell_type": "markdown",
   "metadata": {},
   "source": [
    "## tsfreshのインストール\n",
    "pipを使って最新のtsfreshをインストールします。"
   ]
  },
  {
   "cell_type": "code",
   "execution_count": 1,
   "metadata": {
    "scrolled": true
   },
   "outputs": [
    {
     "name": "stdout",
     "output_type": "stream",
     "text": [
      "Requirement already satisfied: tsfresh in /usr/local/lib/python3.8/site-packages (0.19.0)\n",
      "Requirement already satisfied: numpy>=1.15.1 in /usr/local/lib/python3.8/site-packages (from tsfresh) (1.20.3)\n",
      "Requirement already satisfied: pandas>=0.25.0 in /usr/local/lib/python3.8/site-packages (from tsfresh) (1.3.5)\n",
      "Requirement already satisfied: stumpy>=1.7.2 in /usr/local/lib/python3.8/site-packages (from tsfresh) (1.10.2)\n",
      "Requirement already satisfied: scikit-learn>=0.22.0 in /usr/local/lib/python3.8/site-packages (from tsfresh) (1.0.2)\n",
      "Requirement already satisfied: distributed>=2.11.0 in /usr/local/lib/python3.8/site-packages (from tsfresh) (2021.12.0)\n",
      "Requirement already satisfied: tqdm>=4.10.0 in /usr/local/lib/python3.8/site-packages (from tsfresh) (4.62.3)\n",
      "Requirement already satisfied: dask[dataframe]>=2.9.0 in /usr/local/lib/python3.8/site-packages (from tsfresh) (2021.12.0)\n",
      "Requirement already satisfied: matrixprofile<2.0.0,>=1.1.10 in /usr/local/lib/python3.8/site-packages (from tsfresh) (1.1.10)\n",
      "Requirement already satisfied: requests>=2.9.1 in /usr/local/lib/python3.8/site-packages (from tsfresh) (2.26.0)\n",
      "Requirement already satisfied: statsmodels>=0.13 in /usr/local/lib/python3.8/site-packages (from tsfresh) (0.13.1)\n",
      "Requirement already satisfied: cloudpickle in /usr/local/lib/python3.8/site-packages (from tsfresh) (2.0.0)\n",
      "Requirement already satisfied: scipy>=1.2.0 in /usr/local/lib/python3.8/site-packages (from tsfresh) (1.7.3)\n",
      "Requirement already satisfied: patsy>=0.4.1 in /usr/local/lib/python3.8/site-packages (from tsfresh) (0.5.2)\n",
      "Requirement already satisfied: toolz>=0.8.2 in /usr/local/lib/python3.8/site-packages (from dask[dataframe]>=2.9.0->tsfresh) (0.11.2)\n",
      "Requirement already satisfied: partd>=0.3.10 in /usr/local/lib/python3.8/site-packages (from dask[dataframe]>=2.9.0->tsfresh) (1.2.0)\n",
      "Requirement already satisfied: pyyaml in /usr/local/lib/python3.8/site-packages (from dask[dataframe]>=2.9.0->tsfresh) (6.0)\n",
      "Requirement already satisfied: packaging>=20.0 in /usr/local/lib/python3.8/site-packages (from dask[dataframe]>=2.9.0->tsfresh) (21.3)\n",
      "Requirement already satisfied: fsspec>=0.6.0 in /usr/local/lib/python3.8/site-packages (from dask[dataframe]>=2.9.0->tsfresh) (2021.11.1)\n",
      "Requirement already satisfied: setuptools in /usr/local/lib/python3.8/site-packages (from distributed>=2.11.0->tsfresh) (57.5.0)\n",
      "Requirement already satisfied: psutil>=5.0 in /usr/local/lib/python3.8/site-packages (from distributed>=2.11.0->tsfresh) (5.8.0)\n",
      "Requirement already satisfied: tornado>=6.0.3 in /usr/local/lib/python3.8/site-packages (from distributed>=2.11.0->tsfresh) (6.1)\n",
      "Requirement already satisfied: zict>=0.1.3 in /usr/local/lib/python3.8/site-packages (from distributed>=2.11.0->tsfresh) (2.0.0)\n",
      "Requirement already satisfied: tblib>=1.6.0 in /usr/local/lib/python3.8/site-packages (from distributed>=2.11.0->tsfresh) (1.7.0)\n",
      "Requirement already satisfied: click>=6.6 in /usr/local/lib/python3.8/site-packages (from distributed>=2.11.0->tsfresh) (8.0.3)\n",
      "Requirement already satisfied: jinja2 in /usr/local/lib/python3.8/site-packages (from distributed>=2.11.0->tsfresh) (3.0.3)\n",
      "Requirement already satisfied: sortedcontainers!=2.0.0,!=2.0.1 in /usr/local/lib/python3.8/site-packages (from distributed>=2.11.0->tsfresh) (2.4.0)\n",
      "Requirement already satisfied: msgpack>=0.6.0 in /usr/local/lib/python3.8/site-packages (from distributed>=2.11.0->tsfresh) (1.0.3)\n",
      "Requirement already satisfied: matplotlib>=3.0.3 in /usr/local/lib/python3.8/site-packages (from matrixprofile<2.0.0,>=1.1.10->tsfresh) (3.5.1)\n",
      "Requirement already satisfied: protobuf==3.11.2 in /usr/local/lib/python3.8/site-packages (from matrixprofile<2.0.0,>=1.1.10->tsfresh) (3.11.2)\n",
      "Requirement already satisfied: six>=1.9 in /usr/local/lib/python3.8/site-packages (from protobuf==3.11.2->matrixprofile<2.0.0,>=1.1.10->tsfresh) (1.16.0)\n",
      "Requirement already satisfied: python-dateutil>=2.7.3 in /usr/local/lib/python3.8/site-packages (from pandas>=0.25.0->tsfresh) (2.8.2)\n",
      "Requirement already satisfied: pytz>=2017.3 in /usr/local/lib/python3.8/site-packages (from pandas>=0.25.0->tsfresh) (2021.3)\n",
      "Requirement already satisfied: certifi>=2017.4.17 in /usr/local/lib/python3.8/site-packages (from requests>=2.9.1->tsfresh) (2021.10.8)\n",
      "Requirement already satisfied: idna<4,>=2.5 in /usr/local/lib/python3.8/site-packages (from requests>=2.9.1->tsfresh) (3.3)\n",
      "Requirement already satisfied: urllib3<1.27,>=1.21.1 in /usr/local/lib/python3.8/site-packages (from requests>=2.9.1->tsfresh) (1.26.7)\n",
      "Requirement already satisfied: charset-normalizer~=2.0.0 in /usr/local/lib/python3.8/site-packages (from requests>=2.9.1->tsfresh) (2.0.9)\n",
      "Requirement already satisfied: joblib>=0.11 in /usr/local/lib/python3.8/site-packages (from scikit-learn>=0.22.0->tsfresh) (1.1.0)\n",
      "Requirement already satisfied: threadpoolctl>=2.0.0 in /usr/local/lib/python3.8/site-packages (from scikit-learn>=0.22.0->tsfresh) (3.0.0)\n",
      "Requirement already satisfied: numba>=0.48 in /usr/local/lib/python3.8/site-packages (from stumpy>=1.7.2->tsfresh) (0.54.1)\n",
      "Requirement already satisfied: pyparsing>=2.2.1 in /usr/local/lib/python3.8/site-packages (from matplotlib>=3.0.3->matrixprofile<2.0.0,>=1.1.10->tsfresh) (3.0.6)\n",
      "Requirement already satisfied: kiwisolver>=1.0.1 in /usr/local/lib/python3.8/site-packages (from matplotlib>=3.0.3->matrixprofile<2.0.0,>=1.1.10->tsfresh) (1.3.2)\n",
      "Requirement already satisfied: pillow>=6.2.0 in /usr/local/lib/python3.8/site-packages (from matplotlib>=3.0.3->matrixprofile<2.0.0,>=1.1.10->tsfresh) (8.4.0)\n",
      "Requirement already satisfied: cycler>=0.10 in /usr/local/lib/python3.8/site-packages (from matplotlib>=3.0.3->matrixprofile<2.0.0,>=1.1.10->tsfresh) (0.11.0)\n",
      "Requirement already satisfied: fonttools>=4.22.0 in /usr/local/lib/python3.8/site-packages (from matplotlib>=3.0.3->matrixprofile<2.0.0,>=1.1.10->tsfresh) (4.28.5)\n",
      "Requirement already satisfied: llvmlite<0.38,>=0.37.0rc1 in /usr/local/lib/python3.8/site-packages (from numba>=0.48->stumpy>=1.7.2->tsfresh) (0.37.0)\n",
      "Requirement already satisfied: locket in /usr/local/lib/python3.8/site-packages (from partd>=0.3.10->dask[dataframe]>=2.9.0->tsfresh) (0.2.1)\n",
      "Requirement already satisfied: heapdict in /usr/local/lib/python3.8/site-packages (from zict>=0.1.3->distributed>=2.11.0->tsfresh) (1.0.1)\n",
      "Requirement already satisfied: MarkupSafe>=2.0 in /usr/local/lib/python3.8/site-packages (from jinja2->distributed>=2.11.0->tsfresh) (2.0.1)\n",
      "\u001b[33mWARNING: Running pip as the 'root' user can result in broken permissions and conflicting behaviour with the system package manager. It is recommended to use a virtual environment instead: https://pip.pypa.io/warnings/venv\u001b[0m\n"
     ]
    }
   ],
   "source": [
    "!pip install -U tsfresh"
   ]
  },
  {
   "cell_type": "markdown",
   "metadata": {},
   "source": [
    "## ライブラリのインポート"
   ]
  },
  {
   "cell_type": "code",
   "execution_count": 2,
   "metadata": {},
   "outputs": [],
   "source": [
    "import pandas as pd\n",
    "import numpy as np\n",
    "import lightgbm as lgb\n",
    "import matplotlib.pyplot as plt\n",
    "\n",
    "from tsfresh.feature_extraction import (\n",
    "    MinimalFCParameters,\n",
    "    extract_features,\n",
    "    feature_calculators,\n",
    ")\n"
   ]
  },
  {
   "cell_type": "markdown",
   "metadata": {},
   "source": [
    "## データの読み込み"
   ]
  },
  {
   "cell_type": "code",
   "execution_count": 3,
   "metadata": {},
   "outputs": [],
   "source": [
    "#必須の入出力ファイルのパス\n",
    "filepath = {\n",
    "    \"train\": \"/root/dkaggle-user/data/train.csv\", #学習データ\n",
    "    \"test\": \"/root/dkaggle-user/data/test.csv\", #テストデータ\n",
    "    \"sample\": \"/root/dkaggle-user/data/sample.csv\", #提出用予測結果のフォーマットのサンプル\n",
    "    \"submission\": \"submission.csv\", #提出用予測結果\n",
    "}"
   ]
  },
  {
   "cell_type": "code",
   "execution_count": 4,
   "metadata": {},
   "outputs": [],
   "source": [
    "#データ読み込み(時間かかるので注意)\n",
    "train_df = pd.read_csv(filepath[\"train\"], encoding=\"cp932\",index_col=0)\n",
    "test_df = pd.read_csv(filepath[\"test\"], encoding=\"cp932\",index_col=0)\n",
    "sample = pd.read_csv(filepath[\"sample\"], encoding=\"utf-8\")"
   ]
  },
  {
   "cell_type": "code",
   "execution_count": 5,
   "metadata": {},
   "outputs": [],
   "source": [
    "#思い思いの分析をしてください"
   ]
  },
  {
   "cell_type": "markdown",
   "metadata": {},
   "source": [
    "## アイドリング部分の切り出し"
   ]
  },
  {
   "cell_type": "markdown",
   "metadata": {},
   "source": [
    "ここでは例としてアイドリング部分のエンジン回転数に関する特徴量を生成しますので  \n",
    "はじめにデータを確認し、簡易的にアイドリング部分を特定していきます。"
   ]
  },
  {
   "cell_type": "code",
   "execution_count": 6,
   "metadata": {},
   "outputs": [
    {
     "data": {
      "image/png": "[encoded data removed]",
      "text/plain": [
       "<Figure size 432x288 with 1 Axes>"
      ]
     },
     "metadata": {
      "needs_background": "light"
     },
     "output_type": "display_data"
    }
   ],
   "source": [
    "for i in range(10):\n",
    "    plt.plot(train_df[train_df.id==i]['ｴﾝｼﾞﾝ回転数'].reset_index(drop=True))\n",
    "plt.show()"
   ]
  },
  {
   "cell_type": "markdown",
   "metadata": {},
   "source": [
    "t=300から450で切り出すとアイドリング部分が切り出せそうなので、全てのデータの300-450を拡大して確認します。"
   ]
  },
  {
   "cell_type": "code",
   "execution_count": 7,
   "metadata": {},
   "outputs": [
    {
     "data": {
      "image/png": "[encoded data removed]",
      "text/plain": [
       "<Figure size 432x288 with 1 Axes>"
      ]
     },
     "metadata": {
      "needs_background": "light"
     },
     "output_type": "display_data"
    },
    {
     "data": {
      "image/png": "[encoded data removed]",
      "text/plain": [
       "<Figure size 432x288 with 1 Axes>"
      ]
     },
     "metadata": {
      "needs_background": "light"
     },
     "output_type": "display_data"
    }
   ],
   "source": [
    "for i in range(len(train_df.id.unique())):\n",
    "    plt.plot(train_df[train_df.id==i]['ｴﾝｼﾞﾝ回転数'].reset_index(drop=True))\n",
    "plt.xlim(300,450)\n",
    "plt.show()\n",
    "\n",
    "plt.figure()\n",
    "for i in range(len(test_df.id.unique())):\n",
    "    plt.plot(test_df[test_df.id==i]['ｴﾝｼﾞﾝ回転数'].reset_index(drop=True))\n",
    "plt.xlim(300,450)\n",
    "plt.show()"
   ]
  },
  {
   "cell_type": "markdown",
   "metadata": {},
   "source": [
    "全てアイドリング状態のようなのでこの部分を切り出します。"
   ]
  },
  {
   "cell_type": "code",
   "execution_count": 8,
   "metadata": {},
   "outputs": [],
   "source": [
    "train_df_idle = pd.concat(\n",
    "    [\n",
    "        train_df.loc[train_df.id == id, [\"t\", \"ｴﾝｼﾞﾝ回転数\", \"id\"]][300:450]\n",
    "        for id in train_df.id.unique()\n",
    "    ]\n",
    ")\n",
    "\n",
    "test_df_idle = pd.concat(\n",
    "    [\n",
    "        test_df.loc[test_df.id == id, [\"t\", \"ｴﾝｼﾞﾝ回転数\", \"id\"]][300:450]\n",
    "        for id in test_df.id.unique()\n",
    "    ]\n",
    ")\n"
   ]
  },
  {
   "cell_type": "markdown",
   "metadata": {},
   "source": [
    "## 特徴量の生成"
   ]
  },
  {
   "cell_type": "markdown",
   "metadata": {},
   "source": [
    "ここからエンジン回転数から特徴量を作ることを考えてみます。  \n",
    "一例として回転数の平均や標準偏差を特徴量にしたい場合は、例えば以下のようなコードで特徴量を作ることができます。  \n",
    "（pandasの使い方については[こちら](https://github.com/The-Japan-DataScientist-Society/100knocks-preprocess)が参考になります！）"
   ]
  },
  {
   "cell_type": "code",
   "execution_count": 9,
   "metadata": {},
   "outputs": [
    {
     "data": {
      "text/html": [
       "<div>\n",
       "<style scoped>\n",
       "    .dataframe tbody tr th:only-of-type {\n",
       "        vertical-align: middle;\n",
       "    }\n",
       "\n",
       "    .dataframe tbody tr th {\n",
       "        vertical-align: top;\n",
       "    }\n",
       "\n",
       "    .dataframe thead th {\n",
       "        text-align: right;\n",
       "    }\n",
       "</style>\n",
       "<table border=\"1\" class=\"dataframe\">\n",
       "  <thead>\n",
       "    <tr style=\"text-align: right;\">\n",
       "      <th></th>\n",
       "      <th>id</th>\n",
       "      <th>mean</th>\n",
       "      <th>std</th>\n",
       "    </tr>\n",
       "  </thead>\n",
       "  <tbody>\n",
       "    <tr>\n",
       "      <th>0</th>\n",
       "      <td>0</td>\n",
       "      <td>672.943840</td>\n",
       "      <td>21.547080</td>\n",
       "    </tr>\n",
       "    <tr>\n",
       "      <th>1</th>\n",
       "      <td>2</td>\n",
       "      <td>621.453333</td>\n",
       "      <td>11.245633</td>\n",
       "    </tr>\n",
       "    <tr>\n",
       "      <th>2</th>\n",
       "      <td>4</td>\n",
       "      <td>654.753333</td>\n",
       "      <td>70.236985</td>\n",
       "    </tr>\n",
       "    <tr>\n",
       "      <th>3</th>\n",
       "      <td>8</td>\n",
       "      <td>637.440000</td>\n",
       "      <td>26.112940</td>\n",
       "    </tr>\n",
       "    <tr>\n",
       "      <th>4</th>\n",
       "      <td>9</td>\n",
       "      <td>659.520000</td>\n",
       "      <td>33.720669</td>\n",
       "    </tr>\n",
       "  </tbody>\n",
       "</table>\n",
       "</div>"
      ],
      "text/plain": [
       "   id        mean        std\n",
       "0   0  672.943840  21.547080\n",
       "1   2  621.453333  11.245633\n",
       "2   4  654.753333  70.236985\n",
       "3   8  637.440000  26.112940\n",
       "4   9  659.520000  33.720669"
      ]
     },
     "execution_count": 9,
     "metadata": {},
     "output_type": "execute_result"
    }
   ],
   "source": [
    "train_x = train_df_idle.groupby('id')['ｴﾝｼﾞﾝ回転数'].agg(['mean','std']).reset_index(drop=False)\n",
    "train_x.head()"
   ]
  },
  {
   "cell_type": "markdown",
   "metadata": {},
   "source": [
    "より多種の特徴量を生成したい場合には自分で関数を作成しなければならず、いろいろな特徴量を試したいと思っても時間がかかってしまいます。  \n",
    "tsfreshはこのような場合に使用すると便利な関数で、たくさんの特徴量を自動的に生成してくれます。  \n",
    "実際にtsfreshを使って特徴量を生成してみます。"
   ]
  },
  {
   "cell_type": "code",
   "execution_count": 10,
   "metadata": {},
   "outputs": [
    {
     "name": "stderr",
     "output_type": "stream",
     "text": [
      "Feature Extraction: 100%|██████████| 210/210 [00:18<00:00, 11.19it/s]\n"
     ]
    }
   ],
   "source": [
    "# train_df_idleに対して、idごとにtの順で特徴量を生成する\n",
    "features = extract_features(\n",
    "        train_df_idle,\n",
    "        column_id=\"id\",\n",
    "        column_sort=\"t\",\n",
    "    ).reset_index(drop=True)"
   ]
  },
  {
   "cell_type": "code",
   "execution_count": 11,
   "metadata": {},
   "outputs": [
    {
     "data": {
      "text/html": [
       "<div>\n",
       "<style scoped>\n",
       "    .dataframe tbody tr th:only-of-type {\n",
       "        vertical-align: middle;\n",
       "    }\n",
       "\n",
       "    .dataframe tbody tr th {\n",
       "        vertical-align: top;\n",
       "    }\n",
       "\n",
       "    .dataframe thead th {\n",
       "        text-align: right;\n",
       "    }\n",
       "</style>\n",
       "<table border=\"1\" class=\"dataframe\">\n",
       "  <thead>\n",
       "    <tr style=\"text-align: right;\">\n",
       "      <th></th>\n",
       "      <th>ｴﾝｼﾞﾝ回転数__variance_larger_than_standard_deviation</th>\n",
       "      <th>ｴﾝｼﾞﾝ回転数__has_duplicate_max</th>\n",
       "      <th>ｴﾝｼﾞﾝ回転数__has_duplicate_min</th>\n",
       "      <th>ｴﾝｼﾞﾝ回転数__has_duplicate</th>\n",
       "      <th>ｴﾝｼﾞﾝ回転数__sum_values</th>\n",
       "      <th>ｴﾝｼﾞﾝ回転数__abs_energy</th>\n",
       "      <th>ｴﾝｼﾞﾝ回転数__mean_abs_change</th>\n",
       "      <th>ｴﾝｼﾞﾝ回転数__mean_change</th>\n",
       "      <th>ｴﾝｼﾞﾝ回転数__mean_second_derivative_central</th>\n",
       "      <th>ｴﾝｼﾞﾝ回転数__median</th>\n",
       "      <th>...</th>\n",
       "      <th>ｴﾝｼﾞﾝ回転数__permutation_entropy__dimension_6__tau_1</th>\n",
       "      <th>ｴﾝｼﾞﾝ回転数__permutation_entropy__dimension_7__tau_1</th>\n",
       "      <th>ｴﾝｼﾞﾝ回転数__query_similarity_count__query_None__threshold_0.0</th>\n",
       "      <th>ｴﾝｼﾞﾝ回転数__matrix_profile__feature_\"min\"__threshold_0.98</th>\n",
       "      <th>ｴﾝｼﾞﾝ回転数__matrix_profile__feature_\"max\"__threshold_0.98</th>\n",
       "      <th>ｴﾝｼﾞﾝ回転数__matrix_profile__feature_\"mean\"__threshold_0.98</th>\n",
       "      <th>ｴﾝｼﾞﾝ回転数__matrix_profile__feature_\"median\"__threshold_0.98</th>\n",
       "      <th>ｴﾝｼﾞﾝ回転数__matrix_profile__feature_\"25\"__threshold_0.98</th>\n",
       "      <th>ｴﾝｼﾞﾝ回転数__matrix_profile__feature_\"75\"__threshold_0.98</th>\n",
       "      <th>ｴﾝｼﾞﾝ回転数__mean_n_absolute_max__number_of_maxima_7</th>\n",
       "    </tr>\n",
       "  </thead>\n",
       "  <tbody>\n",
       "    <tr>\n",
       "      <th>0</th>\n",
       "      <td>1.0</td>\n",
       "      <td>1.0</td>\n",
       "      <td>0.0</td>\n",
       "      <td>1.0</td>\n",
       "      <td>100941.575958</td>\n",
       "      <td>6.799719e+07</td>\n",
       "      <td>4.331247</td>\n",
       "      <td>-0.019762</td>\n",
       "      <td>0.012156</td>\n",
       "      <td>673.889967</td>\n",
       "      <td>...</td>\n",
       "      <td>3.865477</td>\n",
       "      <td>4.244276</td>\n",
       "      <td>NaN</td>\n",
       "      <td>0.988674</td>\n",
       "      <td>5.634550</td>\n",
       "      <td>2.497562</td>\n",
       "      <td>2.397392</td>\n",
       "      <td>1.913994</td>\n",
       "      <td>2.896182</td>\n",
       "      <td>727.538399</td>\n",
       "    </tr>\n",
       "    <tr>\n",
       "      <th>1</th>\n",
       "      <td>1.0</td>\n",
       "      <td>1.0</td>\n",
       "      <td>1.0</td>\n",
       "      <td>1.0</td>\n",
       "      <td>93218.000000</td>\n",
       "      <td>5.794948e+07</td>\n",
       "      <td>3.657718</td>\n",
       "      <td>0.140940</td>\n",
       "      <td>0.000000</td>\n",
       "      <td>623.000000</td>\n",
       "      <td>...</td>\n",
       "      <td>4.107238</td>\n",
       "      <td>4.540807</td>\n",
       "      <td>NaN</td>\n",
       "      <td>0.836493</td>\n",
       "      <td>3.306735</td>\n",
       "      <td>1.959687</td>\n",
       "      <td>1.802975</td>\n",
       "      <td>1.428338</td>\n",
       "      <td>2.523584</td>\n",
       "      <td>645.000000</td>\n",
       "    </tr>\n",
       "    <tr>\n",
       "      <th>2</th>\n",
       "      <td>1.0</td>\n",
       "      <td>1.0</td>\n",
       "      <td>1.0</td>\n",
       "      <td>1.0</td>\n",
       "      <td>98213.000000</td>\n",
       "      <td>6.504034e+07</td>\n",
       "      <td>9.389262</td>\n",
       "      <td>0.167785</td>\n",
       "      <td>0.027027</td>\n",
       "      <td>639.000000</td>\n",
       "      <td>...</td>\n",
       "      <td>3.774696</td>\n",
       "      <td>4.355854</td>\n",
       "      <td>NaN</td>\n",
       "      <td>1.171556</td>\n",
       "      <td>4.909613</td>\n",
       "      <td>2.957620</td>\n",
       "      <td>3.148506</td>\n",
       "      <td>2.575360</td>\n",
       "      <td>3.601332</td>\n",
       "      <td>853.714286</td>\n",
       "    </tr>\n",
       "    <tr>\n",
       "      <th>3</th>\n",
       "      <td>1.0</td>\n",
       "      <td>0.0</td>\n",
       "      <td>1.0</td>\n",
       "      <td>1.0</td>\n",
       "      <td>95616.000000</td>\n",
       "      <td>6.105106e+07</td>\n",
       "      <td>6.147651</td>\n",
       "      <td>0.134228</td>\n",
       "      <td>0.013514</td>\n",
       "      <td>638.000000</td>\n",
       "      <td>...</td>\n",
       "      <td>3.751876</td>\n",
       "      <td>4.238095</td>\n",
       "      <td>NaN</td>\n",
       "      <td>0.689013</td>\n",
       "      <td>2.769147</td>\n",
       "      <td>1.659305</td>\n",
       "      <td>1.561821</td>\n",
       "      <td>1.411467</td>\n",
       "      <td>1.961594</td>\n",
       "      <td>705.285714</td>\n",
       "    </tr>\n",
       "    <tr>\n",
       "      <th>4</th>\n",
       "      <td>1.0</td>\n",
       "      <td>0.0</td>\n",
       "      <td>0.0</td>\n",
       "      <td>1.0</td>\n",
       "      <td>98928.000000</td>\n",
       "      <td>6.541442e+07</td>\n",
       "      <td>15.724832</td>\n",
       "      <td>0.315436</td>\n",
       "      <td>0.074324</td>\n",
       "      <td>656.000000</td>\n",
       "      <td>...</td>\n",
       "      <td>3.711275</td>\n",
       "      <td>4.231307</td>\n",
       "      <td>NaN</td>\n",
       "      <td>0.856190</td>\n",
       "      <td>3.426321</td>\n",
       "      <td>1.850183</td>\n",
       "      <td>1.664063</td>\n",
       "      <td>1.385601</td>\n",
       "      <td>2.196405</td>\n",
       "      <td>737.571429</td>\n",
       "    </tr>\n",
       "  </tbody>\n",
       "</table>\n",
       "<p>5 rows × 789 columns</p>\n",
       "</div>"
      ],
      "text/plain": [
       "   ｴﾝｼﾞﾝ回転数__variance_larger_than_standard_deviation  \\\n",
       "0                                                1.0   \n",
       "1                                                1.0   \n",
       "2                                                1.0   \n",
       "3                                                1.0   \n",
       "4                                                1.0   \n",
       "\n",
       "   ｴﾝｼﾞﾝ回転数__has_duplicate_max  ｴﾝｼﾞﾝ回転数__has_duplicate_min  \\\n",
       "0                          1.0                          0.0   \n",
       "1                          1.0                          1.0   \n",
       "2                          1.0                          1.0   \n",
       "3                          0.0                          1.0   \n",
       "4                          0.0                          0.0   \n",
       "\n",
       "   ｴﾝｼﾞﾝ回転数__has_duplicate  ｴﾝｼﾞﾝ回転数__sum_values  ｴﾝｼﾞﾝ回転数__abs_energy  \\\n",
       "0                      1.0         100941.575958          6.799719e+07   \n",
       "1                      1.0          93218.000000          5.794948e+07   \n",
       "2                      1.0          98213.000000          6.504034e+07   \n",
       "3                      1.0          95616.000000          6.105106e+07   \n",
       "4                      1.0          98928.000000          6.541442e+07   \n",
       "\n",
       "   ｴﾝｼﾞﾝ回転数__mean_abs_change  ｴﾝｼﾞﾝ回転数__mean_change  \\\n",
       "0                   4.331247              -0.019762   \n",
       "1                   3.657718               0.140940   \n",
       "2                   9.389262               0.167785   \n",
       "3                   6.147651               0.134228   \n",
       "4                  15.724832               0.315436   \n",
       "\n",
       "   ｴﾝｼﾞﾝ回転数__mean_second_derivative_central  ｴﾝｼﾞﾝ回転数__median  ...  \\\n",
       "0                                  0.012156        673.889967  ...   \n",
       "1                                  0.000000        623.000000  ...   \n",
       "2                                  0.027027        639.000000  ...   \n",
       "3                                  0.013514        638.000000  ...   \n",
       "4                                  0.074324        656.000000  ...   \n",
       "\n",
       "   ｴﾝｼﾞﾝ回転数__permutation_entropy__dimension_6__tau_1  \\\n",
       "0                                           3.865477   \n",
       "1                                           4.107238   \n",
       "2                                           3.774696   \n",
       "3                                           3.751876   \n",
       "4                                           3.711275   \n",
       "\n",
       "   ｴﾝｼﾞﾝ回転数__permutation_entropy__dimension_7__tau_1  \\\n",
       "0                                           4.244276   \n",
       "1                                           4.540807   \n",
       "2                                           4.355854   \n",
       "3                                           4.238095   \n",
       "4                                           4.231307   \n",
       "\n",
       "   ｴﾝｼﾞﾝ回転数__query_similarity_count__query_None__threshold_0.0  \\\n",
       "0                                                NaN             \n",
       "1                                                NaN             \n",
       "2                                                NaN             \n",
       "3                                                NaN             \n",
       "4                                                NaN             \n",
       "\n",
       "   ｴﾝｼﾞﾝ回転数__matrix_profile__feature_\"min\"__threshold_0.98  \\\n",
       "0                                           0.988674         \n",
       "1                                           0.836493         \n",
       "2                                           1.171556         \n",
       "3                                           0.689013         \n",
       "4                                           0.856190         \n",
       "\n",
       "   ｴﾝｼﾞﾝ回転数__matrix_profile__feature_\"max\"__threshold_0.98  \\\n",
       "0                                           5.634550         \n",
       "1                                           3.306735         \n",
       "2                                           4.909613         \n",
       "3                                           2.769147         \n",
       "4                                           3.426321         \n",
       "\n",
       "   ｴﾝｼﾞﾝ回転数__matrix_profile__feature_\"mean\"__threshold_0.98  \\\n",
       "0                                           2.497562          \n",
       "1                                           1.959687          \n",
       "2                                           2.957620          \n",
       "3                                           1.659305          \n",
       "4                                           1.850183          \n",
       "\n",
       "   ｴﾝｼﾞﾝ回転数__matrix_profile__feature_\"median\"__threshold_0.98  \\\n",
       "0                                           2.397392            \n",
       "1                                           1.802975            \n",
       "2                                           3.148506            \n",
       "3                                           1.561821            \n",
       "4                                           1.664063            \n",
       "\n",
       "   ｴﾝｼﾞﾝ回転数__matrix_profile__feature_\"25\"__threshold_0.98  \\\n",
       "0                                           1.913994        \n",
       "1                                           1.428338        \n",
       "2                                           2.575360        \n",
       "3                                           1.411467        \n",
       "4                                           1.385601        \n",
       "\n",
       "   ｴﾝｼﾞﾝ回転数__matrix_profile__feature_\"75\"__threshold_0.98  \\\n",
       "0                                           2.896182        \n",
       "1                                           2.523584        \n",
       "2                                           3.601332        \n",
       "3                                           1.961594        \n",
       "4                                           2.196405        \n",
       "\n",
       "   ｴﾝｼﾞﾝ回転数__mean_n_absolute_max__number_of_maxima_7  \n",
       "0                                         727.538399  \n",
       "1                                         645.000000  \n",
       "2                                         853.714286  \n",
       "3                                         705.285714  \n",
       "4                                         737.571429  \n",
       "\n",
       "[5 rows x 789 columns]"
      ]
     },
     "execution_count": 11,
     "metadata": {},
     "output_type": "execute_result"
    }
   ],
   "source": [
    "features.head()"
   ]
  },
  {
   "cell_type": "code",
   "execution_count": 12,
   "metadata": {},
   "outputs": [
    {
     "data": {
      "text/plain": [
       "789"
      ]
     },
     "execution_count": 12,
     "metadata": {},
     "output_type": "execute_result"
    }
   ],
   "source": [
    "len(features.columns)"
   ]
  },
  {
   "cell_type": "markdown",
   "metadata": {},
   "source": [
    "デフォルトでは789個（！）の特徴量が生成されました。  \n",
    "生成する特徴量は指定することができますが、あらかじめ決められた特徴量のセットを指定することもできます。"
   ]
  },
  {
   "cell_type": "code",
   "execution_count": 13,
   "metadata": {},
   "outputs": [
    {
     "name": "stderr",
     "output_type": "stream",
     "text": [
      "Feature Extraction: 100%|██████████| 210/210 [00:00<00:00, 1630.56it/s]\n"
     ]
    }
   ],
   "source": [
    "settings = MinimalFCParameters()\n",
    "\n",
    "features = extract_features(\n",
    "        train_df_idle,\n",
    "        column_id=\"id\",\n",
    "        column_sort=\"t\",\n",
    "        default_fc_parameters=settings,\n",
    "    ).reset_index(drop=True)"
   ]
  },
  {
   "cell_type": "code",
   "execution_count": 14,
   "metadata": {},
   "outputs": [
    {
     "data": {
      "text/html": [
       "<div>\n",
       "<style scoped>\n",
       "    .dataframe tbody tr th:only-of-type {\n",
       "        vertical-align: middle;\n",
       "    }\n",
       "\n",
       "    .dataframe tbody tr th {\n",
       "        vertical-align: top;\n",
       "    }\n",
       "\n",
       "    .dataframe thead th {\n",
       "        text-align: right;\n",
       "    }\n",
       "</style>\n",
       "<table border=\"1\" class=\"dataframe\">\n",
       "  <thead>\n",
       "    <tr style=\"text-align: right;\">\n",
       "      <th></th>\n",
       "      <th>ｴﾝｼﾞﾝ回転数__sum_values</th>\n",
       "      <th>ｴﾝｼﾞﾝ回転数__median</th>\n",
       "      <th>ｴﾝｼﾞﾝ回転数__mean</th>\n",
       "      <th>ｴﾝｼﾞﾝ回転数__length</th>\n",
       "      <th>ｴﾝｼﾞﾝ回転数__standard_deviation</th>\n",
       "      <th>ｴﾝｼﾞﾝ回転数__variance</th>\n",
       "      <th>ｴﾝｼﾞﾝ回転数__root_mean_square</th>\n",
       "      <th>ｴﾝｼﾞﾝ回転数__maximum</th>\n",
       "      <th>ｴﾝｼﾞﾝ回転数__absolute_maximum</th>\n",
       "      <th>ｴﾝｼﾞﾝ回転数__minimum</th>\n",
       "    </tr>\n",
       "  </thead>\n",
       "  <tbody>\n",
       "    <tr>\n",
       "      <th>0</th>\n",
       "      <td>100941.575958</td>\n",
       "      <td>673.889967</td>\n",
       "      <td>672.943840</td>\n",
       "      <td>150.0</td>\n",
       "      <td>21.475136</td>\n",
       "      <td>461.181474</td>\n",
       "      <td>673.286412</td>\n",
       "      <td>735.0</td>\n",
       "      <td>735.0</td>\n",
       "      <td>570.507463</td>\n",
       "    </tr>\n",
       "    <tr>\n",
       "      <th>1</th>\n",
       "      <td>93218.000000</td>\n",
       "      <td>623.000000</td>\n",
       "      <td>621.453333</td>\n",
       "      <td>150.0</td>\n",
       "      <td>11.208084</td>\n",
       "      <td>125.621156</td>\n",
       "      <td>621.554396</td>\n",
       "      <td>652.0</td>\n",
       "      <td>652.0</td>\n",
       "      <td>594.000000</td>\n",
       "    </tr>\n",
       "    <tr>\n",
       "      <th>2</th>\n",
       "      <td>98213.000000</td>\n",
       "      <td>639.000000</td>\n",
       "      <td>654.753333</td>\n",
       "      <td>150.0</td>\n",
       "      <td>70.002470</td>\n",
       "      <td>4900.345822</td>\n",
       "      <td>658.484832</td>\n",
       "      <td>882.0</td>\n",
       "      <td>882.0</td>\n",
       "      <td>439.000000</td>\n",
       "    </tr>\n",
       "    <tr>\n",
       "      <th>3</th>\n",
       "      <td>95616.000000</td>\n",
       "      <td>638.000000</td>\n",
       "      <td>637.440000</td>\n",
       "      <td>150.0</td>\n",
       "      <td>26.025751</td>\n",
       "      <td>677.339733</td>\n",
       "      <td>637.971076</td>\n",
       "      <td>726.0</td>\n",
       "      <td>726.0</td>\n",
       "      <td>537.000000</td>\n",
       "    </tr>\n",
       "    <tr>\n",
       "      <th>4</th>\n",
       "      <td>98928.000000</td>\n",
       "      <td>656.000000</td>\n",
       "      <td>659.520000</td>\n",
       "      <td>150.0</td>\n",
       "      <td>33.608078</td>\n",
       "      <td>1129.502933</td>\n",
       "      <td>660.375752</td>\n",
       "      <td>753.0</td>\n",
       "      <td>753.0</td>\n",
       "      <td>587.000000</td>\n",
       "    </tr>\n",
       "  </tbody>\n",
       "</table>\n",
       "</div>"
      ],
      "text/plain": [
       "   ｴﾝｼﾞﾝ回転数__sum_values  ｴﾝｼﾞﾝ回転数__median  ｴﾝｼﾞﾝ回転数__mean  ｴﾝｼﾞﾝ回転数__length  \\\n",
       "0         100941.575958        673.889967      672.943840             150.0   \n",
       "1          93218.000000        623.000000      621.453333             150.0   \n",
       "2          98213.000000        639.000000      654.753333             150.0   \n",
       "3          95616.000000        638.000000      637.440000             150.0   \n",
       "4          98928.000000        656.000000      659.520000             150.0   \n",
       "\n",
       "   ｴﾝｼﾞﾝ回転数__standard_deviation  ｴﾝｼﾞﾝ回転数__variance  \\\n",
       "0                     21.475136          461.181474   \n",
       "1                     11.208084          125.621156   \n",
       "2                     70.002470         4900.345822   \n",
       "3                     26.025751          677.339733   \n",
       "4                     33.608078         1129.502933   \n",
       "\n",
       "   ｴﾝｼﾞﾝ回転数__root_mean_square  ｴﾝｼﾞﾝ回転数__maximum  ｴﾝｼﾞﾝ回転数__absolute_maximum  \\\n",
       "0                  673.286412              735.0                       735.0   \n",
       "1                  621.554396              652.0                       652.0   \n",
       "2                  658.484832              882.0                       882.0   \n",
       "3                  637.971076              726.0                       726.0   \n",
       "4                  660.375752              753.0                       753.0   \n",
       "\n",
       "   ｴﾝｼﾞﾝ回転数__minimum  \n",
       "0         570.507463  \n",
       "1         594.000000  \n",
       "2         439.000000  \n",
       "3         537.000000  \n",
       "4         587.000000  "
      ]
     },
     "execution_count": 14,
     "metadata": {},
     "output_type": "execute_result"
    }
   ],
   "source": [
    "features.head()"
   ]
  },
  {
   "cell_type": "code",
   "execution_count": 15,
   "metadata": {},
   "outputs": [
    {
     "data": {
      "text/plain": [
       "10"
      ]
     },
     "execution_count": 15,
     "metadata": {},
     "output_type": "execute_result"
    }
   ],
   "source": [
    "len(features.columns)"
   ]
  },
  {
   "cell_type": "markdown",
   "metadata": {},
   "source": [
    "`MinimalFCParameters`では平均や中央値など基本的な特徴量が10個の特徴量が生成されました。 \n",
    "どの特徴量を生成するかは`default_fc_parameters`に渡される`dict`で定義されており、`MinimalFCParameters`で得られる変数（ここでは`settings`）では以下のような感じになっています。"
   ]
  },
  {
   "cell_type": "code",
   "execution_count": 16,
   "metadata": {},
   "outputs": [
    {
     "data": {
      "text/plain": [
       "{'sum_values': None, 'median': None, 'mean': None, 'length': None, 'standard_deviation': None, 'variance': None, 'root_mean_square': None, 'maximum': None, 'absolute_maximum': None, 'minimum': None}"
      ]
     },
     "execution_count": 16,
     "metadata": {},
     "output_type": "execute_result"
    }
   ],
   "source": [
    "settings"
   ]
  },
  {
   "cell_type": "markdown",
   "metadata": {},
   "source": [
    "また、他の特徴量を追加する場合は以下のように`settings`に項目を追加します。どのような特徴量が用意されているかは[公式ドキュメント](https://tsfresh.readthedocs.io/en/latest/text/list_of_features.html)を参照ください。"
   ]
  },
  {
   "cell_type": "code",
   "execution_count": 17,
   "metadata": {},
   "outputs": [
    {
     "name": "stderr",
     "output_type": "stream",
     "text": [
      "Feature Extraction: 100%|██████████| 210/210 [00:00<00:00, 264.22it/s]\n"
     ]
    }
   ],
   "source": [
    "# 4次のARモデルの係数を特徴量として追加する\n",
    "settings[\"ar_coefficient\"] = [\n",
    "    {\"coeff\": 0, \"k\": 4},\n",
    "    {\"coeff\": 1, \"k\": 4},\n",
    "    {\"coeff\": 2, \"k\": 4},\n",
    "    {\"coeff\": 3, \"k\": 4},\n",
    "]\n",
    "\n",
    "features = extract_features(\n",
    "        train_df_idle,\n",
    "        column_id=\"id\",\n",
    "        column_sort=\"t\",\n",
    "        default_fc_parameters=settings,\n",
    "    ).reset_index(drop=True)"
   ]
  },
  {
   "cell_type": "code",
   "execution_count": 18,
   "metadata": {},
   "outputs": [
    {
     "data": {
      "text/html": [
       "<div>\n",
       "<style scoped>\n",
       "    .dataframe tbody tr th:only-of-type {\n",
       "        vertical-align: middle;\n",
       "    }\n",
       "\n",
       "    .dataframe tbody tr th {\n",
       "        vertical-align: top;\n",
       "    }\n",
       "\n",
       "    .dataframe thead th {\n",
       "        text-align: right;\n",
       "    }\n",
       "</style>\n",
       "<table border=\"1\" class=\"dataframe\">\n",
       "  <thead>\n",
       "    <tr style=\"text-align: right;\">\n",
       "      <th></th>\n",
       "      <th>ｴﾝｼﾞﾝ回転数__sum_values</th>\n",
       "      <th>ｴﾝｼﾞﾝ回転数__median</th>\n",
       "      <th>ｴﾝｼﾞﾝ回転数__mean</th>\n",
       "      <th>ｴﾝｼﾞﾝ回転数__length</th>\n",
       "      <th>ｴﾝｼﾞﾝ回転数__standard_deviation</th>\n",
       "      <th>ｴﾝｼﾞﾝ回転数__variance</th>\n",
       "      <th>ｴﾝｼﾞﾝ回転数__root_mean_square</th>\n",
       "      <th>ｴﾝｼﾞﾝ回転数__maximum</th>\n",
       "      <th>ｴﾝｼﾞﾝ回転数__absolute_maximum</th>\n",
       "      <th>ｴﾝｼﾞﾝ回転数__minimum</th>\n",
       "      <th>ｴﾝｼﾞﾝ回転数__ar_coefficient__coeff_0__k_4</th>\n",
       "      <th>ｴﾝｼﾞﾝ回転数__ar_coefficient__coeff_1__k_4</th>\n",
       "      <th>ｴﾝｼﾞﾝ回転数__ar_coefficient__coeff_2__k_4</th>\n",
       "      <th>ｴﾝｼﾞﾝ回転数__ar_coefficient__coeff_3__k_4</th>\n",
       "    </tr>\n",
       "  </thead>\n",
       "  <tbody>\n",
       "    <tr>\n",
       "      <th>0</th>\n",
       "      <td>100941.575958</td>\n",
       "      <td>673.889967</td>\n",
       "      <td>672.943840</td>\n",
       "      <td>150.0</td>\n",
       "      <td>21.475136</td>\n",
       "      <td>461.181474</td>\n",
       "      <td>673.286412</td>\n",
       "      <td>735.0</td>\n",
       "      <td>735.0</td>\n",
       "      <td>570.507463</td>\n",
       "      <td>69.462391</td>\n",
       "      <td>1.604567</td>\n",
       "      <td>-0.763471</td>\n",
       "      <td>0.124091</td>\n",
       "    </tr>\n",
       "    <tr>\n",
       "      <th>1</th>\n",
       "      <td>93218.000000</td>\n",
       "      <td>623.000000</td>\n",
       "      <td>621.453333</td>\n",
       "      <td>150.0</td>\n",
       "      <td>11.208084</td>\n",
       "      <td>125.621156</td>\n",
       "      <td>621.554396</td>\n",
       "      <td>652.0</td>\n",
       "      <td>652.0</td>\n",
       "      <td>594.000000</td>\n",
       "      <td>73.675402</td>\n",
       "      <td>0.733803</td>\n",
       "      <td>0.024843</td>\n",
       "      <td>0.188467</td>\n",
       "    </tr>\n",
       "    <tr>\n",
       "      <th>2</th>\n",
       "      <td>98213.000000</td>\n",
       "      <td>639.000000</td>\n",
       "      <td>654.753333</td>\n",
       "      <td>150.0</td>\n",
       "      <td>70.002470</td>\n",
       "      <td>4900.345822</td>\n",
       "      <td>658.484832</td>\n",
       "      <td>882.0</td>\n",
       "      <td>882.0</td>\n",
       "      <td>439.000000</td>\n",
       "      <td>55.916275</td>\n",
       "      <td>1.338971</td>\n",
       "      <td>-0.434648</td>\n",
       "      <td>0.175088</td>\n",
       "    </tr>\n",
       "    <tr>\n",
       "      <th>3</th>\n",
       "      <td>95616.000000</td>\n",
       "      <td>638.000000</td>\n",
       "      <td>637.440000</td>\n",
       "      <td>150.0</td>\n",
       "      <td>26.025751</td>\n",
       "      <td>677.339733</td>\n",
       "      <td>637.971076</td>\n",
       "      <td>726.0</td>\n",
       "      <td>726.0</td>\n",
       "      <td>537.000000</td>\n",
       "      <td>92.270675</td>\n",
       "      <td>0.968995</td>\n",
       "      <td>0.172063</td>\n",
       "      <td>-0.371020</td>\n",
       "    </tr>\n",
       "    <tr>\n",
       "      <th>4</th>\n",
       "      <td>98928.000000</td>\n",
       "      <td>656.000000</td>\n",
       "      <td>659.520000</td>\n",
       "      <td>150.0</td>\n",
       "      <td>33.608078</td>\n",
       "      <td>1129.502933</td>\n",
       "      <td>660.375752</td>\n",
       "      <td>753.0</td>\n",
       "      <td>753.0</td>\n",
       "      <td>587.000000</td>\n",
       "      <td>196.814321</td>\n",
       "      <td>0.871855</td>\n",
       "      <td>0.241041</td>\n",
       "      <td>-0.583286</td>\n",
       "    </tr>\n",
       "  </tbody>\n",
       "</table>\n",
       "</div>"
      ],
      "text/plain": [
       "   ｴﾝｼﾞﾝ回転数__sum_values  ｴﾝｼﾞﾝ回転数__median  ｴﾝｼﾞﾝ回転数__mean  ｴﾝｼﾞﾝ回転数__length  \\\n",
       "0         100941.575958        673.889967      672.943840             150.0   \n",
       "1          93218.000000        623.000000      621.453333             150.0   \n",
       "2          98213.000000        639.000000      654.753333             150.0   \n",
       "3          95616.000000        638.000000      637.440000             150.0   \n",
       "4          98928.000000        656.000000      659.520000             150.0   \n",
       "\n",
       "   ｴﾝｼﾞﾝ回転数__standard_deviation  ｴﾝｼﾞﾝ回転数__variance  \\\n",
       "0                     21.475136          461.181474   \n",
       "1                     11.208084          125.621156   \n",
       "2                     70.002470         4900.345822   \n",
       "3                     26.025751          677.339733   \n",
       "4                     33.608078         1129.502933   \n",
       "\n",
       "   ｴﾝｼﾞﾝ回転数__root_mean_square  ｴﾝｼﾞﾝ回転数__maximum  ｴﾝｼﾞﾝ回転数__absolute_maximum  \\\n",
       "0                  673.286412              735.0                       735.0   \n",
       "1                  621.554396              652.0                       652.0   \n",
       "2                  658.484832              882.0                       882.0   \n",
       "3                  637.971076              726.0                       726.0   \n",
       "4                  660.375752              753.0                       753.0   \n",
       "\n",
       "   ｴﾝｼﾞﾝ回転数__minimum  ｴﾝｼﾞﾝ回転数__ar_coefficient__coeff_0__k_4  \\\n",
       "0         570.507463                               69.462391   \n",
       "1         594.000000                               73.675402   \n",
       "2         439.000000                               55.916275   \n",
       "3         537.000000                               92.270675   \n",
       "4         587.000000                              196.814321   \n",
       "\n",
       "   ｴﾝｼﾞﾝ回転数__ar_coefficient__coeff_1__k_4  \\\n",
       "0                                1.604567   \n",
       "1                                0.733803   \n",
       "2                                1.338971   \n",
       "3                                0.968995   \n",
       "4                                0.871855   \n",
       "\n",
       "   ｴﾝｼﾞﾝ回転数__ar_coefficient__coeff_2__k_4  \\\n",
       "0                               -0.763471   \n",
       "1                                0.024843   \n",
       "2                               -0.434648   \n",
       "3                                0.172063   \n",
       "4                                0.241041   \n",
       "\n",
       "   ｴﾝｼﾞﾝ回転数__ar_coefficient__coeff_3__k_4  \n",
       "0                                0.124091  \n",
       "1                                0.188467  \n",
       "2                                0.175088  \n",
       "3                               -0.371020  \n",
       "4                               -0.583286  "
      ]
     },
     "execution_count": 18,
     "metadata": {},
     "output_type": "execute_result"
    }
   ],
   "source": [
    "features.head()"
   ]
  },
  {
   "cell_type": "markdown",
   "metadata": {},
   "source": [
    "さらに4つの特徴量が追加されました。  \n",
    "このほか、独自の特徴量も生成できますのでその方法は[公式ドキュメント](https://tsfresh.readthedocs.io/en/latest/)や[記事](https://qiita.com/niwashing/items/c5e75c80256ffb2e0dd7)を参照ください。"
   ]
  },
  {
   "cell_type": "markdown",
   "metadata": {},
   "source": [
    "## 学習\n",
    "以上のように生成した特徴量で適当に学習モデルを生成し、予測をしてみます。"
   ]
  },
  {
   "cell_type": "code",
   "execution_count": 19,
   "metadata": {},
   "outputs": [],
   "source": [
    "train_x = features\n",
    "train_y = train_df.groupby('id').fail_type.min().values"
   ]
  },
  {
   "cell_type": "code",
   "execution_count": 20,
   "metadata": {},
   "outputs": [
    {
     "name": "stderr",
     "output_type": "stream",
     "text": [
      "Feature Extraction: 100%|██████████| 204/204 [00:00<00:00, 263.10it/s]\n"
     ]
    }
   ],
   "source": [
    "test_x = extract_features(\n",
    "        test_df_idle,\n",
    "        column_id=\"id\",\n",
    "        column_sort=\"t\",\n",
    "        default_fc_parameters=settings,\n",
    "    ).reset_index(drop=True)"
   ]
  },
  {
   "cell_type": "code",
   "execution_count": 21,
   "metadata": {},
   "outputs": [
    {
     "data": {
      "text/plain": [
       "14"
      ]
     },
     "execution_count": 21,
     "metadata": {},
     "output_type": "execute_result"
    }
   ],
   "source": [
    "len(test_x.columns)"
   ]
  },
  {
   "cell_type": "code",
   "execution_count": 22,
   "metadata": {},
   "outputs": [],
   "source": [
    "# 学習データから適当に評価用のデータを分ける（交差検証はしない）\n",
    "n=-42\n",
    "x_train = np.array(train_x[:n])\n",
    "y_train = np.array(train_y[:n])\n",
    "x_valid = np.array(train_x[n:])\n",
    "y_valid = np.array(train_y[n:])"
   ]
  },
  {
   "cell_type": "markdown",
   "metadata": {},
   "source": [
    "パラメータは適当に設定"
   ]
  },
  {
   "cell_type": "code",
   "execution_count": 23,
   "metadata": {},
   "outputs": [],
   "source": [
    "params = {'lambda_l1': 2.9923049684572518e-05,\n",
    " 'lambda_l2': 0.29561270408123375,\n",
    " 'num_leaves': 177,\n",
    " 'feature_fraction': 0.6798845602678106,\n",
    " 'bagging_fraction': 0.7326602610581225,\n",
    " 'bagging_freq': 9,\n",
    " 'min_child_samples': 32,\n",
    " 'learning_rate': 0.09970526814874636,\n",
    " 'num_class': 6,\n",
    " 'objective': 'multiclass',\n",
    "}\n"
   ]
  },
  {
   "cell_type": "code",
   "execution_count": 24,
   "metadata": {},
   "outputs": [],
   "source": [
    "lgb_train = lgb.Dataset(x_train, y_train, free_raw_data=False)\n",
    "lgb_valid = lgb.Dataset(x_valid, y_valid, free_raw_data=False, reference=lgb_train)"
   ]
  },
  {
   "cell_type": "code",
   "execution_count": 25,
   "metadata": {
    "scrolled": true
   },
   "outputs": [
    {
     "name": "stdout",
     "output_type": "stream",
     "text": [
      "[LightGBM] [Warning] Auto-choosing col-wise multi-threading, the overhead of testing was 0.000075 seconds.\n",
      "You can set `force_col_wise=true` to remove the overhead.\n",
      "[LightGBM] [Info] Total Bins 738\n",
      "[LightGBM] [Info] Number of data points in the train set: 168, number of used features: 13\n",
      "[LightGBM] [Info] Start training from score -34.538776\n",
      "[LightGBM] [Info] Start training from score -1.658228\n",
      "[LightGBM] [Info] Start training from score -1.597603\n",
      "[LightGBM] [Info] Start training from score -1.568616\n",
      "[LightGBM] [Info] Start training from score -1.627456\n",
      "[LightGBM] [Info] Start training from score -1.597603\n",
      "[LightGBM] [Warning] No further splits with positive gain, best gain: -inf\n",
      "[LightGBM] [Warning] No further splits with positive gain, best gain: -inf\n",
      "[LightGBM] [Warning] No further splits with positive gain, best gain: -inf\n",
      "[LightGBM] [Warning] No further splits with positive gain, best gain: -inf\n",
      "[LightGBM] [Warning] No further splits with positive gain, best gain: -inf\n",
      "Training until validation scores don't improve for 10 rounds\n",
      "[LightGBM] [Warning] No further splits with positive gain, best gain: -inf\n",
      "[LightGBM] [Warning] No further splits with positive gain, best gain: -inf\n",
      "[LightGBM] [Warning] No further splits with positive gain, best gain: -inf\n",
      "[LightGBM] [Warning] No further splits with positive gain, best gain: -inf\n",
      "[LightGBM] [Warning] No further splits with positive gain, best gain: -inf\n",
      "[LightGBM] [Warning] No further splits with positive gain, best gain: -inf\n",
      "[LightGBM] [Warning] No further splits with positive gain, best gain: -inf\n",
      "[LightGBM] [Warning] No further splits with positive gain, best gain: -inf\n",
      "[LightGBM] [Warning] No further splits with positive gain, best gain: -inf\n",
      "[LightGBM] [Warning] No further splits with positive gain, best gain: -inf\n",
      "[LightGBM] [Warning] No further splits with positive gain, best gain: -inf\n",
      "[LightGBM] [Warning] No further splits with positive gain, best gain: -inf\n",
      "[LightGBM] [Warning] No further splits with positive gain, best gain: -inf\n",
      "[LightGBM] [Warning] No further splits with positive gain, best gain: -inf\n",
      "[LightGBM] [Warning] No further splits with positive gain, best gain: -inf\n",
      "[LightGBM] [Warning] No further splits with positive gain, best gain: -inf\n",
      "[LightGBM] [Warning] No further splits with positive gain, best gain: -inf\n",
      "[LightGBM] [Warning] No further splits with positive gain, best gain: -inf\n",
      "[LightGBM] [Warning] No further splits with positive gain, best gain: -inf\n",
      "[LightGBM] [Warning] No further splits with positive gain, best gain: -inf\n",
      "[LightGBM] [Warning] No further splits with positive gain, best gain: -inf\n",
      "[LightGBM] [Warning] No further splits with positive gain, best gain: -inf\n",
      "[LightGBM] [Warning] No further splits with positive gain, best gain: -inf\n",
      "[LightGBM] [Warning] No further splits with positive gain, best gain: -inf\n",
      "[LightGBM] [Warning] No further splits with positive gain, best gain: -inf\n",
      "[LightGBM] [Warning] No further splits with positive gain, best gain: -inf\n",
      "[LightGBM] [Warning] No further splits with positive gain, best gain: -inf\n",
      "[LightGBM] [Warning] No further splits with positive gain, best gain: -inf\n",
      "[LightGBM] [Warning] No further splits with positive gain, best gain: -inf\n",
      "[LightGBM] [Warning] No further splits with positive gain, best gain: -inf\n",
      "[LightGBM] [Warning] No further splits with positive gain, best gain: -inf\n",
      "[LightGBM] [Warning] No further splits with positive gain, best gain: -inf\n",
      "[LightGBM] [Warning] No further splits with positive gain, best gain: -inf\n",
      "[LightGBM] [Warning] No further splits with positive gain, best gain: -inf\n",
      "[LightGBM] [Warning] No further splits with positive gain, best gain: -inf\n",
      "[LightGBM] [Warning] No further splits with positive gain, best gain: -inf\n",
      "[LightGBM] [Warning] No further splits with positive gain, best gain: -inf\n",
      "[LightGBM] [Warning] No further splits with positive gain, best gain: -inf\n",
      "[LightGBM] [Warning] No further splits with positive gain, best gain: -inf\n",
      "[LightGBM] [Warning] No further splits with positive gain, best gain: -inf\n",
      "[LightGBM] [Warning] No further splits with positive gain, best gain: -inf\n",
      "[LightGBM] [Warning] No further splits with positive gain, best gain: -inf\n",
      "[LightGBM] [Warning] No further splits with positive gain, best gain: -inf\n",
      "[LightGBM] [Warning] No further splits with positive gain, best gain: -inf\n",
      "[LightGBM] [Warning] No further splits with positive gain, best gain: -inf\n",
      "[LightGBM] [Warning] No further splits with positive gain, best gain: -inf\n",
      "[LightGBM] [Warning] No further splits with positive gain, best gain: -inf\n",
      "[LightGBM] [Warning] No further splits with positive gain, best gain: -inf\n",
      "[LightGBM] [Warning] No further splits with positive gain, best gain: -inf\n",
      "[LightGBM] [Warning] No further splits with positive gain, best gain: -inf\n",
      "[LightGBM] [Warning] No further splits with positive gain, best gain: -inf\n",
      "[LightGBM] [Warning] No further splits with positive gain, best gain: -inf\n",
      "[LightGBM] [Warning] No further splits with positive gain, best gain: -inf\n",
      "[LightGBM] [Warning] No further splits with positive gain, best gain: -inf\n",
      "[LightGBM] [Warning] No further splits with positive gain, best gain: -inf\n",
      "[LightGBM] [Warning] No further splits with positive gain, best gain: -inf\n",
      "[LightGBM] [Warning] No further splits with positive gain, best gain: -inf\n",
      "[LightGBM] [Warning] No further splits with positive gain, best gain: -inf\n",
      "[LightGBM] [Warning] No further splits with positive gain, best gain: -inf\n",
      "[LightGBM] [Warning] No further splits with positive gain, best gain: -inf\n",
      "[LightGBM] [Warning] No further splits with positive gain, best gain: -inf\n",
      "[LightGBM] [Warning] No further splits with positive gain, best gain: -inf\n",
      "[LightGBM] [Warning] No further splits with positive gain, best gain: -inf\n",
      "[LightGBM] [Warning] No further splits with positive gain, best gain: -inf\n",
      "[LightGBM] [Warning] No further splits with positive gain, best gain: -inf\n",
      "[LightGBM] [Warning] No further splits with positive gain, best gain: -inf\n",
      "[LightGBM] [Warning] No further splits with positive gain, best gain: -inf\n",
      "[LightGBM] [Warning] No further splits with positive gain, best gain: -inf\n",
      "[LightGBM] [Warning] No further splits with positive gain, best gain: -inf\n",
      "[LightGBM] [Warning] No further splits with positive gain, best gain: -inf\n",
      "[LightGBM] [Warning] No further splits with positive gain, best gain: -inf\n",
      "[LightGBM] [Warning] No further splits with positive gain, best gain: -inf\n",
      "[LightGBM] [Warning] No further splits with positive gain, best gain: -inf\n",
      "[LightGBM] [Warning] No further splits with positive gain, best gain: -inf\n",
      "[LightGBM] [Warning] No further splits with positive gain, best gain: -inf\n",
      "[LightGBM] [Warning] No further splits with positive gain, best gain: -inf\n",
      "[LightGBM] [Warning] No further splits with positive gain, best gain: -inf\n",
      "[LightGBM] [Warning] No further splits with positive gain, best gain: -inf\n",
      "[LightGBM] [Warning] No further splits with positive gain, best gain: -inf\n",
      "[LightGBM] [Warning] No further splits with positive gain, best gain: -inf\n",
      "[LightGBM] [Warning] No further splits with positive gain, best gain: -inf\n",
      "[LightGBM] [Warning] No further splits with positive gain, best gain: -inf\n",
      "[LightGBM] [Warning] No further splits with positive gain, best gain: -inf\n",
      "[LightGBM] [Warning] No further splits with positive gain, best gain: -inf\n",
      "[LightGBM] [Warning] No further splits with positive gain, best gain: -inf\n",
      "[LightGBM] [Warning] No further splits with positive gain, best gain: -inf\n",
      "[LightGBM] [Warning] No further splits with positive gain, best gain: -inf\n",
      "[LightGBM] [Warning] No further splits with positive gain, best gain: -inf\n",
      "[LightGBM] [Warning] No further splits with positive gain, best gain: -inf\n",
      "[LightGBM] [Warning] No further splits with positive gain, best gain: -inf\n",
      "[LightGBM] [Warning] No further splits with positive gain, best gain: -inf\n",
      "[LightGBM] [Warning] No further splits with positive gain, best gain: -inf\n",
      "[LightGBM] [Warning] No further splits with positive gain, best gain: -inf\n",
      "[LightGBM] [Warning] No further splits with positive gain, best gain: -inf\n",
      "[LightGBM] [Warning] No further splits with positive gain, best gain: -inf\n",
      "[LightGBM] [Warning] No further splits with positive gain, best gain: -inf\n",
      "[LightGBM] [Warning] No further splits with positive gain, best gain: -inf\n",
      "[LightGBM] [Warning] No further splits with positive gain, best gain: -inf\n",
      "[LightGBM] [Warning] No further splits with positive gain, best gain: -inf\n",
      "[LightGBM] [Warning] No further splits with positive gain, best gain: -inf\n",
      "[LightGBM] [Warning] No further splits with positive gain, best gain: -inf\n",
      "[LightGBM] [Warning] No further splits with positive gain, best gain: -inf\n",
      "[LightGBM] [Warning] No further splits with positive gain, best gain: -inf\n",
      "[LightGBM] [Warning] No further splits with positive gain, best gain: -inf\n",
      "[LightGBM] [Warning] No further splits with positive gain, best gain: -inf\n",
      "[LightGBM] [Warning] No further splits with positive gain, best gain: -inf\n",
      "[LightGBM] [Warning] No further splits with positive gain, best gain: -inf\n",
      "[LightGBM] [Warning] No further splits with positive gain, best gain: -inf\n",
      "[LightGBM] [Warning] No further splits with positive gain, best gain: -inf\n",
      "[LightGBM] [Warning] No further splits with positive gain, best gain: -inf\n",
      "[LightGBM] [Warning] No further splits with positive gain, best gain: -inf\n",
      "[LightGBM] [Warning] No further splits with positive gain, best gain: -inf\n",
      "[LightGBM] [Warning] No further splits with positive gain, best gain: -inf\n",
      "[LightGBM] [Warning] No further splits with positive gain, best gain: -inf\n",
      "[LightGBM] [Warning] No further splits with positive gain, best gain: -inf\n",
      "[LightGBM] [Warning] No further splits with positive gain, best gain: -inf\n",
      "[LightGBM] [Warning] No further splits with positive gain, best gain: -inf\n",
      "[LightGBM] [Warning] No further splits with positive gain, best gain: -inf\n",
      "[LightGBM] [Warning] No further splits with positive gain, best gain: -inf\n",
      "[LightGBM] [Warning] No further splits with positive gain, best gain: -inf\n",
      "[LightGBM] [Warning] No further splits with positive gain, best gain: -inf\n",
      "[LightGBM] [Warning] No further splits with positive gain, best gain: -inf\n",
      "[LightGBM] [Warning] No further splits with positive gain, best gain: -inf\n",
      "[LightGBM] [Warning] No further splits with positive gain, best gain: -inf\n",
      "[LightGBM] [Warning] No further splits with positive gain, best gain: -inf\n",
      "[LightGBM] [Warning] No further splits with positive gain, best gain: -inf\n",
      "[LightGBM] [Warning] No further splits with positive gain, best gain: -inf\n",
      "[LightGBM] [Warning] No further splits with positive gain, best gain: -inf\n",
      "[LightGBM] [Warning] No further splits with positive gain, best gain: -inf\n",
      "[LightGBM] [Warning] No further splits with positive gain, best gain: -inf\n",
      "[LightGBM] [Warning] No further splits with positive gain, best gain: -inf\n",
      "[LightGBM] [Warning] No further splits with positive gain, best gain: -inf\n",
      "[LightGBM] [Warning] No further splits with positive gain, best gain: -inf\n",
      "[LightGBM] [Warning] No further splits with positive gain, best gain: -inf\n",
      "[LightGBM] [Warning] No further splits with positive gain, best gain: -inf\n",
      "[LightGBM] [Warning] No further splits with positive gain, best gain: -inf\n",
      "[LightGBM] [Warning] No further splits with positive gain, best gain: -inf\n",
      "[LightGBM] [Warning] No further splits with positive gain, best gain: -inf\n",
      "[LightGBM] [Warning] No further splits with positive gain, best gain: -inf\n",
      "[LightGBM] [Warning] No further splits with positive gain, best gain: -inf\n",
      "[LightGBM] [Warning] No further splits with positive gain, best gain: -inf\n",
      "[LightGBM] [Warning] No further splits with positive gain, best gain: -inf\n",
      "[LightGBM] [Warning] No further splits with positive gain, best gain: -inf\n",
      "[LightGBM] [Warning] No further splits with positive gain, best gain: -inf\n",
      "[LightGBM] [Warning] No further splits with positive gain, best gain: -inf\n",
      "[LightGBM] [Warning] No further splits with positive gain, best gain: -inf\n",
      "[LightGBM] [Warning] No further splits with positive gain, best gain: -inf\n",
      "[LightGBM] [Warning] No further splits with positive gain, best gain: -inf\n",
      "[LightGBM] [Warning] No further splits with positive gain, best gain: -inf\n",
      "[LightGBM] [Warning] No further splits with positive gain, best gain: -inf\n",
      "[LightGBM] [Warning] No further splits with positive gain, best gain: -inf\n",
      "[LightGBM] [Warning] No further splits with positive gain, best gain: -inf\n",
      "[LightGBM] [Warning] No further splits with positive gain, best gain: -inf\n",
      "[LightGBM] [Warning] No further splits with positive gain, best gain: -inf\n",
      "[LightGBM] [Warning] No further splits with positive gain, best gain: -inf\n",
      "[LightGBM] [Warning] No further splits with positive gain, best gain: -inf\n",
      "[LightGBM] [Warning] No further splits with positive gain, best gain: -inf\n",
      "[LightGBM] [Warning] No further splits with positive gain, best gain: -inf\n",
      "[LightGBM] [Warning] No further splits with positive gain, best gain: -inf\n",
      "[LightGBM] [Warning] No further splits with positive gain, best gain: -inf\n",
      "[LightGBM] [Warning] No further splits with positive gain, best gain: -inf\n",
      "[LightGBM] [Warning] No further splits with positive gain, best gain: -inf\n",
      "[LightGBM] [Warning] No further splits with positive gain, best gain: -inf\n",
      "[LightGBM] [Warning] No further splits with positive gain, best gain: -inf\n",
      "[LightGBM] [Warning] No further splits with positive gain, best gain: -inf\n",
      "[LightGBM] [Warning] No further splits with positive gain, best gain: -inf\n",
      "[LightGBM] [Warning] No further splits with positive gain, best gain: -inf\n",
      "[LightGBM] [Warning] No further splits with positive gain, best gain: -inf\n",
      "[LightGBM] [Warning] No further splits with positive gain, best gain: -inf\n",
      "[LightGBM] [Warning] No further splits with positive gain, best gain: -inf\n",
      "[LightGBM] [Warning] No further splits with positive gain, best gain: -inf\n",
      "[LightGBM] [Warning] No further splits with positive gain, best gain: -inf\n",
      "[LightGBM] [Warning] No further splits with positive gain, best gain: -inf\n",
      "[LightGBM] [Warning] No further splits with positive gain, best gain: -inf\n",
      "[LightGBM] [Warning] No further splits with positive gain, best gain: -inf\n",
      "[LightGBM] [Warning] No further splits with positive gain, best gain: -inf\n",
      "[LightGBM] [Warning] No further splits with positive gain, best gain: -inf\n",
      "[LightGBM] [Warning] No further splits with positive gain, best gain: -inf\n",
      "[LightGBM] [Warning] No further splits with positive gain, best gain: -inf\n",
      "[LightGBM] [Warning] No further splits with positive gain, best gain: -inf\n",
      "[LightGBM] [Warning] No further splits with positive gain, best gain: -inf\n",
      "[LightGBM] [Warning] No further splits with positive gain, best gain: -inf\n",
      "[LightGBM] [Warning] No further splits with positive gain, best gain: -inf\n",
      "[LightGBM] [Warning] No further splits with positive gain, best gain: -inf\n",
      "[LightGBM] [Warning] No further splits with positive gain, best gain: -inf\n",
      "[LightGBM] [Warning] No further splits with positive gain, best gain: -inf\n",
      "[LightGBM] [Warning] No further splits with positive gain, best gain: -inf\n",
      "[LightGBM] [Warning] No further splits with positive gain, best gain: -inf\n",
      "[LightGBM] [Warning] No further splits with positive gain, best gain: -inf\n",
      "[LightGBM] [Warning] No further splits with positive gain, best gain: -inf\n",
      "[LightGBM] [Warning] No further splits with positive gain, best gain: -inf\n",
      "[LightGBM] [Warning] No further splits with positive gain, best gain: -inf\n",
      "[LightGBM] [Warning] No further splits with positive gain, best gain: -inf\n",
      "[LightGBM] [Warning] No further splits with positive gain, best gain: -inf\n",
      "[LightGBM] [Warning] No further splits with positive gain, best gain: -inf\n",
      "[LightGBM] [Warning] No further splits with positive gain, best gain: -inf\n",
      "[LightGBM] [Warning] No further splits with positive gain, best gain: -inf\n",
      "[LightGBM] [Warning] No further splits with positive gain, best gain: -inf\n",
      "[LightGBM] [Warning] No further splits with positive gain, best gain: -inf\n",
      "[LightGBM] [Warning] No further splits with positive gain, best gain: -inf\n",
      "[LightGBM] [Warning] No further splits with positive gain, best gain: -inf\n",
      "[LightGBM] [Warning] No further splits with positive gain, best gain: -inf\n",
      "[LightGBM] [Warning] No further splits with positive gain, best gain: -inf\n",
      "[LightGBM] [Warning] No further splits with positive gain, best gain: -inf\n",
      "[LightGBM] [Warning] No further splits with positive gain, best gain: -inf\n",
      "[LightGBM] [Warning] No further splits with positive gain, best gain: -inf\n",
      "[LightGBM] [Warning] No further splits with positive gain, best gain: -inf\n",
      "[LightGBM] [Warning] No further splits with positive gain, best gain: -inf\n",
      "[LightGBM] [Warning] No further splits with positive gain, best gain: -inf\n",
      "[LightGBM] [Warning] No further splits with positive gain, best gain: -inf\n",
      "[LightGBM] [Warning] No further splits with positive gain, best gain: -inf\n",
      "[LightGBM] [Warning] No further splits with positive gain, best gain: -inf\n",
      "[LightGBM] [Warning] No further splits with positive gain, best gain: -inf\n",
      "[LightGBM] [Warning] No further splits with positive gain, best gain: -inf\n",
      "[LightGBM] [Warning] No further splits with positive gain, best gain: -inf\n",
      "[LightGBM] [Warning] No further splits with positive gain, best gain: -inf\n",
      "[LightGBM] [Warning] No further splits with positive gain, best gain: -inf\n",
      "[LightGBM] [Warning] No further splits with positive gain, best gain: -inf\n",
      "[LightGBM] [Warning] No further splits with positive gain, best gain: -inf\n",
      "[LightGBM] [Warning] No further splits with positive gain, best gain: -inf\n",
      "[LightGBM] [Warning] No further splits with positive gain, best gain: -inf\n",
      "[LightGBM] [Warning] No further splits with positive gain, best gain: -inf\n",
      "[LightGBM] [Warning] No further splits with positive gain, best gain: -inf\n",
      "[LightGBM] [Warning] No further splits with positive gain, best gain: -inf\n",
      "[LightGBM] [Warning] No further splits with positive gain, best gain: -inf\n",
      "[LightGBM] [Warning] No further splits with positive gain, best gain: -inf\n",
      "[LightGBM] [Warning] No further splits with positive gain, best gain: -inf\n",
      "[LightGBM] [Warning] No further splits with positive gain, best gain: -inf\n",
      "[LightGBM] [Warning] No further splits with positive gain, best gain: -inf\n",
      "[LightGBM] [Warning] No further splits with positive gain, best gain: -inf\n",
      "[LightGBM] [Warning] No further splits with positive gain, best gain: -inf\n",
      "[LightGBM] [Warning] No further splits with positive gain, best gain: -inf\n",
      "[LightGBM] [Warning] No further splits with positive gain, best gain: -inf\n",
      "[LightGBM] [Warning] No further splits with positive gain, best gain: -inf\n",
      "[LightGBM] [Warning] No further splits with positive gain, best gain: -inf\n",
      "[LightGBM] [Warning] No further splits with positive gain, best gain: -inf\n",
      "[LightGBM] [Warning] No further splits with positive gain, best gain: -inf\n",
      "[LightGBM] [Warning] No further splits with positive gain, best gain: -inf\n",
      "[LightGBM] [Warning] No further splits with positive gain, best gain: -inf\n",
      "[LightGBM] [Warning] No further splits with positive gain, best gain: -inf\n",
      "[LightGBM] [Warning] No further splits with positive gain, best gain: -inf\n",
      "[LightGBM] [Warning] No further splits with positive gain, best gain: -inf\n",
      "[LightGBM] [Warning] No further splits with positive gain, best gain: -inf\n",
      "[LightGBM] [Warning] No further splits with positive gain, best gain: -inf\n",
      "[LightGBM] [Warning] No further splits with positive gain, best gain: -inf\n",
      "[LightGBM] [Warning] No further splits with positive gain, best gain: -inf\n",
      "[LightGBM] [Warning] No further splits with positive gain, best gain: -inf\n",
      "[LightGBM] [Warning] No further splits with positive gain, best gain: -inf\n",
      "[LightGBM] [Warning] No further splits with positive gain, best gain: -inf\n",
      "[LightGBM] [Warning] No further splits with positive gain, best gain: -inf\n",
      "[LightGBM] [Warning] No further splits with positive gain, best gain: -inf\n",
      "[LightGBM] [Warning] No further splits with positive gain, best gain: -inf\n",
      "[LightGBM] [Warning] No further splits with positive gain, best gain: -inf\n",
      "[LightGBM] [Warning] No further splits with positive gain, best gain: -inf\n",
      "[LightGBM] [Warning] No further splits with positive gain, best gain: -inf\n",
      "[LightGBM] [Warning] No further splits with positive gain, best gain: -inf\n",
      "[LightGBM] [Warning] No further splits with positive gain, best gain: -inf\n",
      "[LightGBM] [Warning] No further splits with positive gain, best gain: -inf\n",
      "[LightGBM] [Warning] No further splits with positive gain, best gain: -inf\n",
      "[LightGBM] [Warning] No further splits with positive gain, best gain: -inf\n",
      "[LightGBM] [Warning] No further splits with positive gain, best gain: -inf\n",
      "[LightGBM] [Warning] No further splits with positive gain, best gain: -inf\n",
      "[LightGBM] [Warning] No further splits with positive gain, best gain: -inf\n",
      "[LightGBM] [Warning] No further splits with positive gain, best gain: -inf\n",
      "[LightGBM] [Warning] No further splits with positive gain, best gain: -inf\n",
      "[LightGBM] [Warning] No further splits with positive gain, best gain: -inf\n",
      "[LightGBM] [Warning] No further splits with positive gain, best gain: -inf\n",
      "[LightGBM] [Warning] No further splits with positive gain, best gain: -inf\n",
      "[LightGBM] [Warning] No further splits with positive gain, best gain: -inf\n",
      "[LightGBM] [Warning] No further splits with positive gain, best gain: -inf\n",
      "[LightGBM] [Warning] No further splits with positive gain, best gain: -inf\n",
      "[LightGBM] [Warning] No further splits with positive gain, best gain: -inf\n",
      "[LightGBM] [Warning] No further splits with positive gain, best gain: -inf\n",
      "[LightGBM] [Warning] No further splits with positive gain, best gain: -inf\n",
      "[LightGBM] [Warning] No further splits with positive gain, best gain: -inf\n",
      "[LightGBM] [Warning] No further splits with positive gain, best gain: -inf\n",
      "[LightGBM] [Warning] No further splits with positive gain, best gain: -inf\n",
      "[LightGBM] [Warning] No further splits with positive gain, best gain: -inf\n",
      "[LightGBM] [Warning] No further splits with positive gain, best gain: -inf\n",
      "[LightGBM] [Warning] No further splits with positive gain, best gain: -inf\n",
      "[LightGBM] [Warning] No further splits with positive gain, best gain: -inf\n",
      "[LightGBM] [Warning] No further splits with positive gain, best gain: -inf\n",
      "[LightGBM] [Warning] No further splits with positive gain, best gain: -inf\n",
      "[LightGBM] [Warning] No further splits with positive gain, best gain: -inf\n",
      "[LightGBM] [Warning] No further splits with positive gain, best gain: -inf\n",
      "[LightGBM] [Warning] No further splits with positive gain, best gain: -inf\n",
      "[LightGBM] [Warning] No further splits with positive gain, best gain: -inf\n",
      "[LightGBM] [Warning] No further splits with positive gain, best gain: -inf\n",
      "[LightGBM] [Warning] No further splits with positive gain, best gain: -inf\n",
      "[LightGBM] [Warning] No further splits with positive gain, best gain: -inf\n",
      "[LightGBM] [Warning] No further splits with positive gain, best gain: -inf\n",
      "[LightGBM] [Warning] No further splits with positive gain, best gain: -inf\n",
      "[LightGBM] [Warning] No further splits with positive gain, best gain: -inf\n",
      "[LightGBM] [Warning] No further splits with positive gain, best gain: -inf\n",
      "[LightGBM] [Warning] No further splits with positive gain, best gain: -inf\n",
      "[LightGBM] [Warning] No further splits with positive gain, best gain: -inf\n",
      "[LightGBM] [Warning] No further splits with positive gain, best gain: -inf\n",
      "[LightGBM] [Warning] No further splits with positive gain, best gain: -inf\n",
      "[LightGBM] [Warning] No further splits with positive gain, best gain: -inf\n",
      "[LightGBM] [Warning] No further splits with positive gain, best gain: -inf\n",
      "[LightGBM] [Warning] No further splits with positive gain, best gain: -inf\n",
      "[LightGBM] [Warning] No further splits with positive gain, best gain: -inf\n",
      "[LightGBM] [Warning] No further splits with positive gain, best gain: -inf\n",
      "[LightGBM] [Warning] No further splits with positive gain, best gain: -inf\n",
      "[LightGBM] [Warning] No further splits with positive gain, best gain: -inf\n",
      "[LightGBM] [Warning] No further splits with positive gain, best gain: -inf\n",
      "[LightGBM] [Warning] No further splits with positive gain, best gain: -inf\n",
      "[LightGBM] [Warning] No further splits with positive gain, best gain: -inf\n",
      "[LightGBM] [Warning] No further splits with positive gain, best gain: -inf\n",
      "[LightGBM] [Warning] No further splits with positive gain, best gain: -inf\n",
      "[LightGBM] [Warning] No further splits with positive gain, best gain: -inf\n",
      "[LightGBM] [Warning] No further splits with positive gain, best gain: -inf\n",
      "[LightGBM] [Warning] No further splits with positive gain, best gain: -inf\n",
      "[LightGBM] [Warning] No further splits with positive gain, best gain: -inf\n",
      "[LightGBM] [Warning] No further splits with positive gain, best gain: -inf\n",
      "[LightGBM] [Warning] No further splits with positive gain, best gain: -inf\n",
      "[LightGBM] [Warning] No further splits with positive gain, best gain: -inf\n",
      "[LightGBM] [Warning] No further splits with positive gain, best gain: -inf\n",
      "[LightGBM] [Warning] No further splits with positive gain, best gain: -inf\n",
      "[LightGBM] [Warning] No further splits with positive gain, best gain: -inf\n",
      "[LightGBM] [Warning] No further splits with positive gain, best gain: -inf\n",
      "[LightGBM] [Warning] No further splits with positive gain, best gain: -inf\n",
      "[LightGBM] [Warning] No further splits with positive gain, best gain: -inf\n",
      "[LightGBM] [Warning] No further splits with positive gain, best gain: -inf\n",
      "[LightGBM] [Warning] No further splits with positive gain, best gain: -inf\n",
      "[LightGBM] [Warning] No further splits with positive gain, best gain: -inf\n",
      "[LightGBM] [Warning] No further splits with positive gain, best gain: -inf\n",
      "[LightGBM] [Warning] No further splits with positive gain, best gain: -inf\n",
      "[LightGBM] [Warning] No further splits with positive gain, best gain: -inf\n",
      "[LightGBM] [Warning] No further splits with positive gain, best gain: -inf\n",
      "[LightGBM] [Warning] No further splits with positive gain, best gain: -inf\n",
      "[LightGBM] [Warning] No further splits with positive gain, best gain: -inf\n",
      "[LightGBM] [Warning] No further splits with positive gain, best gain: -inf\n",
      "[LightGBM] [Warning] No further splits with positive gain, best gain: -inf\n",
      "[LightGBM] [Warning] No further splits with positive gain, best gain: -inf\n",
      "[LightGBM] [Warning] No further splits with positive gain, best gain: -inf\n",
      "[LightGBM] [Warning] No further splits with positive gain, best gain: -inf\n",
      "[LightGBM] [Warning] No further splits with positive gain, best gain: -inf\n",
      "[LightGBM] [Warning] No further splits with positive gain, best gain: -inf\n",
      "[LightGBM] [Warning] No further splits with positive gain, best gain: -inf\n",
      "[LightGBM] [Warning] No further splits with positive gain, best gain: -inf\n",
      "[LightGBM] [Warning] No further splits with positive gain, best gain: -inf\n",
      "[LightGBM] [Warning] No further splits with positive gain, best gain: -inf\n",
      "[LightGBM] [Warning] No further splits with positive gain, best gain: -inf\n",
      "[LightGBM] [Warning] No further splits with positive gain, best gain: -inf\n",
      "[LightGBM] [Warning] No further splits with positive gain, best gain: -inf\n",
      "[LightGBM] [Warning] No further splits with positive gain, best gain: -inf\n",
      "[LightGBM] [Warning] No further splits with positive gain, best gain: -inf\n",
      "[LightGBM] [Warning] No further splits with positive gain, best gain: -inf\n",
      "[LightGBM] [Warning] No further splits with positive gain, best gain: -inf\n",
      "[LightGBM] [Warning] No further splits with positive gain, best gain: -inf\n",
      "[LightGBM] [Warning] No further splits with positive gain, best gain: -inf\n",
      "[LightGBM] [Warning] No further splits with positive gain, best gain: -inf\n",
      "[LightGBM] [Warning] No further splits with positive gain, best gain: -inf\n",
      "[LightGBM] [Warning] No further splits with positive gain, best gain: -inf\n",
      "[LightGBM] [Warning] No further splits with positive gain, best gain: -inf\n",
      "[LightGBM] [Warning] No further splits with positive gain, best gain: -inf\n",
      "[LightGBM] [Warning] No further splits with positive gain, best gain: -inf\n",
      "[LightGBM] [Warning] No further splits with positive gain, best gain: -inf\n",
      "[LightGBM] [Warning] No further splits with positive gain, best gain: -inf\n",
      "[LightGBM] [Warning] No further splits with positive gain, best gain: -inf\n",
      "[LightGBM] [Warning] No further splits with positive gain, best gain: -inf\n",
      "[LightGBM] [Warning] No further splits with positive gain, best gain: -inf\n",
      "[LightGBM] [Warning] No further splits with positive gain, best gain: -inf\n",
      "[LightGBM] [Warning] No further splits with positive gain, best gain: -inf\n",
      "[LightGBM] [Warning] No further splits with positive gain, best gain: -inf\n",
      "[LightGBM] [Warning] No further splits with positive gain, best gain: -inf\n",
      "[LightGBM] [Warning] No further splits with positive gain, best gain: -inf\n",
      "[LightGBM] [Warning] No further splits with positive gain, best gain: -inf\n",
      "[LightGBM] [Warning] No further splits with positive gain, best gain: -inf\n",
      "[LightGBM] [Warning] No further splits with positive gain, best gain: -inf\n",
      "[LightGBM] [Warning] No further splits with positive gain, best gain: -inf\n",
      "[LightGBM] [Warning] No further splits with positive gain, best gain: -inf\n",
      "[LightGBM] [Warning] No further splits with positive gain, best gain: -inf\n",
      "[LightGBM] [Warning] No further splits with positive gain, best gain: -inf\n",
      "Early stopping, best iteration is:\n",
      "[66]\tvalid_0's multi_logloss: 0.318862\n"
     ]
    }
   ],
   "source": [
    "evaluation_results = {}\n",
    "\n",
    "model = lgb.train(\n",
    "    params,\n",
    "    lgb_train,\n",
    "    num_boost_round=1000,\n",
    "    valid_sets=lgb_valid,\n",
    "    callbacks=[\n",
    "        lgb.early_stopping(10),\n",
    "        lgb.record_evaluation(evaluation_results)\n",
    "    ]\n",
    ")"
   ]
  },
  {
   "cell_type": "markdown",
   "metadata": {},
   "source": [
    "lossをプロットし確認"
   ]
  },
  {
   "cell_type": "code",
   "execution_count": 26,
   "metadata": {},
   "outputs": [
    {
     "data": {
      "text/plain": [
       "defaultdict(collections.OrderedDict,\n",
       "            {'valid_0': OrderedDict([('multi_logloss', 0.31886201437720424)])})"
      ]
     },
     "execution_count": 26,
     "metadata": {},
     "output_type": "execute_result"
    },
    {
     "data": {
      "image/png": "[encoded data removed]",
      "text/plain": [
       "<Figure size 432x288 with 1 Axes>"
      ]
     },
     "metadata": {
      "needs_background": "light"
     },
     "output_type": "display_data"
    }
   ],
   "source": [
    "plt.plot(evaluation_results[\"valid_0\"][\"multi_logloss\"])\n",
    "model.best_score"
   ]
  },
  {
   "cell_type": "markdown",
   "metadata": {},
   "source": [
    "予測値を取得してsubmission.csvを作成する"
   ]
  },
  {
   "cell_type": "code",
   "execution_count": 27,
   "metadata": {},
   "outputs": [],
   "source": [
    "pred = model.predict(test_x)\n",
    "# 確率をラベルにする\n",
    "pred_fail = [np.argmax(p) for p in pred]"
   ]
  },
  {
   "cell_type": "code",
   "execution_count": 28,
   "metadata": {},
   "outputs": [],
   "source": [
    "pred_df = pd.DataFrame(np.c_[test_df.id.unique(),pred_fail], columns=['id', 'fail_type'])"
   ]
  },
  {
   "cell_type": "code",
   "execution_count": 29,
   "metadata": {},
   "outputs": [
    {
     "data": {
      "text/html": [
       "<div>\n",
       "<style scoped>\n",
       "    .dataframe tbody tr th:only-of-type {\n",
       "        vertical-align: middle;\n",
       "    }\n",
       "\n",
       "    .dataframe tbody tr th {\n",
       "        vertical-align: top;\n",
       "    }\n",
       "\n",
       "    .dataframe thead th {\n",
       "        text-align: right;\n",
       "    }\n",
       "</style>\n",
       "<table border=\"1\" class=\"dataframe\">\n",
       "  <thead>\n",
       "    <tr style=\"text-align: right;\">\n",
       "      <th></th>\n",
       "      <th>id</th>\n",
       "      <th>fail_type</th>\n",
       "    </tr>\n",
       "  </thead>\n",
       "  <tbody>\n",
       "    <tr>\n",
       "      <th>0</th>\n",
       "      <td>1</td>\n",
       "      <td>3</td>\n",
       "    </tr>\n",
       "    <tr>\n",
       "      <th>1</th>\n",
       "      <td>3</td>\n",
       "      <td>1</td>\n",
       "    </tr>\n",
       "    <tr>\n",
       "      <th>2</th>\n",
       "      <td>5</td>\n",
       "      <td>3</td>\n",
       "    </tr>\n",
       "    <tr>\n",
       "      <th>3</th>\n",
       "      <td>6</td>\n",
       "      <td>1</td>\n",
       "    </tr>\n",
       "    <tr>\n",
       "      <th>4</th>\n",
       "      <td>7</td>\n",
       "      <td>1</td>\n",
       "    </tr>\n",
       "  </tbody>\n",
       "</table>\n",
       "</div>"
      ],
      "text/plain": [
       "   id  fail_type\n",
       "0   1          3\n",
       "1   3          1\n",
       "2   5          3\n",
       "3   6          1\n",
       "4   7          1"
      ]
     },
     "execution_count": 29,
     "metadata": {},
     "output_type": "execute_result"
    }
   ],
   "source": [
    "pred_df.head()"
   ]
  },
  {
   "cell_type": "code",
   "execution_count": 30,
   "metadata": {},
   "outputs": [],
   "source": [
    "#結果をcsvに出力\n",
    "pred_df.to_csv(filepath[\"submission\"],index=False)"
   ]
  },
  {
   "cell_type": "markdown",
   "metadata": {},
   "source": [
    "## まとめ\n",
    "本サンプルでは、特徴量を自動生成するライブラリ`tsfresh`を紹介しました。初めてデータ分析に取り組まれる方は、まずはtsfreshで用意されている特徴量を使って学習し、ベースラインモデルを作ったり、特徴量の当たりをつけるといったことから初めてみるのも良いのかもしれません。"
   ]
  }
 ],
 "metadata": {
  "instance_type": "ml.t3.medium",
  "kernelspec": {
   "display_name": "dn kaggle script (dkaggle-script/latest)",
   "language": "python",
   "name": "python3__SAGEMAKER_INTERNAL__arn:aws:sagemaker:ap-northeast-1:564403802236:image/dkaggle-script"
  },
  "language_info": {
   "codemirror_mode": {
    "name": "ipython",
    "version": 3
   },
   "file_extension": ".py",
   "mimetype": "text/x-python",
   "name": "python",
   "nbconvert_exporter": "python",
   "pygments_lexer": "ipython3",
   "version": "3.8.12"
  }
 },
 "nbformat": 4,
 "nbformat_minor": 4
}
